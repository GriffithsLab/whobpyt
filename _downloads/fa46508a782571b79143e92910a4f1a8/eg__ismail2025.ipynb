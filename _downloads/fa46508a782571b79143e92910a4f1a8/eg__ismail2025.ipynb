{
  "cells": [
    {
      "cell_type": "markdown",
      "metadata": {},
      "source": [
        "\n# Example: Replicating Ismail et al. 2025\n"
      ]
    },
    {
      "cell_type": "code",
      "execution_count": null,
      "metadata": {
        "collapsed": false
      },
      "outputs": [],
      "source": [
        "#"
      ]
    },
    {
      "cell_type": "markdown",
      "metadata": {},
      "source": [
        "## 0. Overview\n\nThis example replicates modelling in the Ismail et al. 2025 paper.\nThe code includes data fetching, model fitting, and result visualization based on the methods presented in the paper.\n\n"
      ]
    },
    {
      "cell_type": "markdown",
      "metadata": {},
      "source": [
        "Summary of paper\nIn this study, we explore the mechanisms underlying language lateralization in childhood \nusing personalized whole-brain network models. Our findings reveal that interhemispheric inhibitory \ncircuits play a crucial role in shaping lateralized language function, with local inhibition decreasing \nover development while interhemispheric inhibition increases. Using systematic model manipulations and virtual \ntransplant experiments, we show that the reduction in local inhibition allows pre-existing asymmetries in interhemispheric \ninhibition to drive laterality. This work provides a developmental framework for understanding how inhibitory circuits shape language networks.\n\n"
      ]
    },
    {
      "cell_type": "markdown",
      "metadata": {},
      "source": [
        "## 1. Setup\n\n"
      ]
    },
    {
      "cell_type": "code",
      "execution_count": null,
      "metadata": {
        "collapsed": false
      },
      "outputs": [],
      "source": [
        "# Importage:\nimport numpy as np\nimport pandas as pd\nimport torch\nimport torch.optim as optim\nfrom torch.nn.parameter import Parameter\nfrom sklearn.metrics.pairwise import cosine_similarity\nimport pickle\nimport os\nimport gdown\n\n# -------------------------------------------------------------------------\n# Imports\n# -------------------------------------------------------------------------\nimport os\nimport numpy as np\nimport gdown\nfrom scipy.io import loadmat\nfrom whobpyt.depr.ismail2025.jansen_rit import ParamsModel, RNNJANSEN, Model_fitting, dataloader\n\n\n# -------------------------------------------------------------------------\n# Download data\n# -------------------------------------------------------------------------\n#The data is available on a public Google Drive folder and includes:\n#- verb_evoked.npy\n#- noise_evoked.npy\n#- leadfield_3d.mat\n#- weights.csv (structural connectivity)\n#- distance.txt (Euclidean inter-region distances)\n\nfolder_id = \"1F8XOPfKihcV5hk0p9N_UVciyC5-SMHsn\"\noutput_dir = \"eg__ismail2025_data\"\n\nif not os.path.exists(output_dir):\n    url = f\"https://drive.google.com/drive/folders/{folder_id}\"\n    gdown.download_folder(url, quiet=True, use_cookies=False)\n \n# -------------------------------------------------------------------------\n# Load Data\n# -------------------------------------------------------------------------\nverb_eeg_raw = np.load(os.path.join('eg__ismail2025_data', 'verb_evoked.npy'))   # (time, channels)\nnoise_eeg_raw = np.load(os.path.join('eg__ismail2025_data', 'noise_evoked.npy')) # (time, channels)\n\n# Normalize both signals\nverb_eeg = verb_eeg_raw / np.abs(verb_eeg_raw).max() * 1\nnoise_eeg = noise_eeg_raw / np.abs(noise_eeg_raw).max() * 1\n\nleadfield = loadmat(os.path.join('eg__ismail2025_data', 'leadfield_3d.mat'))  # shape (sources, sensors, 3)\nlm_3d = leadfield['M']  # 3D leadfield matrix\n\n# Convert 3D to 2D using SVD-based projection\nlm = np.zeros_like(lm_3d[:, :, 0])\nfor sources in range(lm_3d.shape[0]):\n    u, d, v = np.linalg.svd(lm_3d[sources])\n    lm[sources] = u[:,:3].dot(np.diag(d)).dot(v[0])\n# Scale the leadfield matrix\nlm = lm.T / 1e-11 * 5  # Shape: (channels, sources)\n\nsc_df = pd.read_csv(os.path.join('eg__ismail2025_data', 'weights.csv'), header=None).values\nsc = np.log1p(sc_df)\nsc = sc / np.linalg.norm(sc)\ndist = np.loadtxt(os.path.join('eg__ismail2025_data', 'distance.txt'))\n\n# -------------------------------------------------------------------------\n# Define simulation and model parameters\n# -------------------------------------------------------------------------\nnode_size = sc.shape[0]\noutput_size = verb_eeg.shape[0]\nbatch_size = 250\nstep_size = 0.0001\ninput_size = 3\nnum_epoches = 2 #used 250 in paper using 2 for example\ntr = 0.001\nstate_size = 6\nbase_batch_num = 20\ntime_dim = verb_eeg.shape[1]\nhidden_size = int(tr/step_size)\n\n\n# Format input data\ndata_verb = dataloader(verb_eeg.T, num_epoches, batch_size)\ndata_noise = dataloader(noise_eeg.T, num_epoches, batch_size)\n\nki0 = np.zeros((node_size, 1))\nki0[[2, 183, 5]] = 1\n\nlm_n = 0.01 * np.random.randn(output_size, node_size)\nlm_v = 0.01 * np.random.randn(output_size, node_size)\n\npar = ParamsModel('JR', A = [3.25, 0.1], a= [100, 1], B = [22, 0.5], b = [50, 1], g=[400, 1], g_f=[10, 1], g_b=[10, 1],\\\n                    c1 = [135, 1], c2 = [135*0.8, 1], c3 = [135*0.25, 1], c4 = [135*0.25, 1],\\\n                    std_in=[0, 1], vmax= [5, 0], v0=[6,0], r=[0.56, 0], y0=[-0.5 , 0.05],\\\n                    mu = [1., 0.1], k = [5, 0.2], kE = [0, 0], kI = [0, 0],\n                    cy0 = [5, 0], ki=[ki0, 0], lm=[lm+lm_n, .1 * np.ones((output_size, node_size))+lm_v])\n\n# -------------------------------------------------------------------------\n# Run verb model fitting\n# -------------------------------------------------------------------------\nverb_model = RNNJANSEN(node_size, batch_size, step_size, output_size, tr, sc, lm, dist, True, False, par)\nverb_model.setModelParameters()\n\n#Stimulate the auditory cortices defined by roi in ki0\nstim_input = np.zeros((node_size, hidden_size, time_dim))\nstim_input[:, :, 100:140] = 5000\n\nverb_F = Model_fitting(verb_model, data_verb, num_epoches, 0)\nverb_F.train(u=stim_input)\nverb_F.test(base_batch_num, u=stim_input)\n\nprint(\"Finished fitting model to verb trials\")\n\n# -------------------------------------------------------------------------\n# Run noise model fitting\n# -------------------------------------------------------------------------\nnoise_model = RNNJANSEN(node_size, batch_size, step_size, output_size, tr, sc, lm, dist, True, False, par)\nnoise_model.setModelParameters()\n\nnoise_F = Model_fitting(noise_model, data_noise, num_epoches, 0)\nnoise_F.train(u=stim_input)\nnoise_F.test(base_batch_num, u=stim_input)\n\nprint(\"Finished fitting model to noise trials\")"
      ]
    }
  ],
  "metadata": {
    "kernelspec": {
      "display_name": "Python 3",
      "language": "python",
      "name": "python3"
    },
    "language_info": {
      "codemirror_mode": {
        "name": "ipython",
        "version": 3
      },
      "file_extension": ".py",
      "mimetype": "text/x-python",
      "name": "python",
      "nbconvert_exporter": "python",
      "pygments_lexer": "ipython3",
      "version": "3.9.22"
    }
  },
  "nbformat": 4,
  "nbformat_minor": 0
}