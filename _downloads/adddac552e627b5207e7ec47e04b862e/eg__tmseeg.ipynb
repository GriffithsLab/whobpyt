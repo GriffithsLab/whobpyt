{
  "cells": [
    {
      "cell_type": "markdown",
      "metadata": {},
      "source": [
        "\n\n# Modelling TMS-EEG evoked responses\n\nThis example runs a minimal example based on the analysis in the paaper :footcite:`MomiEtAl2023`:\n\nMomi, D., Wang, Z., Griffiths, J.D. (2023).\n \"TMS-evoked responses are driven by recurrent large-scale network dynamics.\"\n# eLife, [doi: 10.7554/eLife.83232](https://elifesciences.org/articles/83232)\n\nThe code includes data fetching, model fitting, and result visualization based on the methods presented in the paper.\n"
      ]
    },
    {
      "cell_type": "code",
      "execution_count": null,
      "metadata": {
        "collapsed": false
      },
      "outputs": [],
      "source": [
        "#"
      ]
    },
    {
      "cell_type": "markdown",
      "metadata": {},
      "source": [
        "## Setup\n\n"
      ]
    },
    {
      "cell_type": "code",
      "execution_count": null,
      "metadata": {
        "collapsed": false
      },
      "outputs": [],
      "source": [
        "# Importage:\n\n# os stuff\nimport os\nimport sys\nsys.path.append('..')\n\n\n# whobpyt stuff\nimport whobpyt\nfrom whobpyt.datatypes import Parameter as par, Timeseries\nfrom whobpyt.models.jansen_rit import JansenRitModel,JansenRitParams\nfrom whobpyt.run import ModelFitting\nfrom whobpyt.optimization.custom_cost_JR import CostsJR\n\n# python stuff\nimport numpy as np\nimport pandas as pd\nimport scipy.io\nimport gdown\nimport pickle\nimport warnings\nwarnings.filterwarnings('ignore')\n\n#neuroimaging packages\nimport mne\n\n# viz stuff\nimport matplotlib.pyplot as plt"
      ]
    },
    {
      "cell_type": "markdown",
      "metadata": {},
      "source": [
        "Download and load necessary data for the example\n\n"
      ]
    },
    {
      "cell_type": "code",
      "execution_count": null,
      "metadata": {
        "collapsed": false
      },
      "outputs": [],
      "source": [
        "download_data = True \nurl = 'https://drive.google.com/drive/folders/1DTdF_xR78DxB6kzxqY3SVYBAcdU9IkAB?usp=drive_link'\n\nif download_data: gdown.download_folder(url, quiet=True)\ndata_dir = os.path.abspath('eg__tmseeg_data')"
      ]
    },
    {
      "cell_type": "markdown",
      "metadata": {},
      "source": [
        "Load EEG data from a file\n\n"
      ]
    },
    {
      "cell_type": "code",
      "execution_count": null,
      "metadata": {
        "collapsed": false
      },
      "outputs": [],
      "source": [
        "file_name = os.path.join(data_dir, 'Subject_1_low_voltage.fif')\nepoched = mne.read_epochs(file_name, verbose=False);\nevoked = epoched.average()"
      ]
    },
    {
      "cell_type": "markdown",
      "metadata": {},
      "source": [
        "Load Atlas\n\n"
      ]
    },
    {
      "cell_type": "code",
      "execution_count": null,
      "metadata": {
        "collapsed": false
      },
      "outputs": [],
      "source": [
        "url = 'https://raw.githubusercontent.com/ThomasYeoLab/CBIG/master/stable_projects/brain_parcellation/Schaefer2018_LocalGlobal/Parcellations/MNI/Centroid_coordinates/Schaefer2018_200Parcels_7Networks_order_FSLMNI152_2mm.Centroid_RAS.csv'\natlas = pd.read_csv(url)\nlabels = atlas['ROI Name']\ncoords = np.array([atlas['R'], atlas['A'], atlas['S']]).T\nconduction_velocity = 5 #in ms"
      ]
    },
    {
      "cell_type": "markdown",
      "metadata": {},
      "source": [
        "Compute the distance matrix\n\n"
      ]
    },
    {
      "cell_type": "code",
      "execution_count": null,
      "metadata": {
        "collapsed": false
      },
      "outputs": [],
      "source": [
        "dist = np.zeros((coords.shape[0], coords.shape[0]))\n\nfor roi1 in range(coords.shape[0]):\n  for roi2 in range(coords.shape[0]):\n    dist[roi1, roi2] = np.sqrt(np.sum((coords[roi1,:] - coords[roi2,:])**2, axis=0))\n    dist[roi1, roi2] = np.sqrt(np.sum((coords[roi1,:] - coords[roi2,:])**2, axis=0))"
      ]
    },
    {
      "cell_type": "markdown",
      "metadata": {},
      "source": [
        "Load the stim weights matrix which encode where to inject the external input\n\n"
      ]
    },
    {
      "cell_type": "code",
      "execution_count": null,
      "metadata": {
        "collapsed": false
      },
      "outputs": [],
      "source": [
        "stim_weights = np.load(os.path.join(data_dir, 'stim_weights.npy'))\nstim_weights_thr = stim_weights.copy()\nlabels[np.where(stim_weights_thr>0)[0]]"
      ]
    },
    {
      "cell_type": "markdown",
      "metadata": {},
      "source": [
        "Load the structural connectivity matrix\n\n"
      ]
    },
    {
      "cell_type": "code",
      "execution_count": null,
      "metadata": {
        "collapsed": false
      },
      "outputs": [],
      "source": [
        "sc_file =  os.path.join(data_dir, 'Schaefer2018_200Parcels_7Networks_count.csv')\nsc_df = pd.read_csv(sc_file, header=None, sep=' ')\nsc = sc_df.values\nsc = np.log1p(sc) / np.linalg.norm(np.log1p(sc))"
      ]
    },
    {
      "cell_type": "markdown",
      "metadata": {},
      "source": [
        "Load the leadfield matrix\n\n"
      ]
    },
    {
      "cell_type": "code",
      "execution_count": null,
      "metadata": {
        "collapsed": false
      },
      "outputs": [],
      "source": [
        "lm = os.path.join(data_dir, 'Subject_1_low_voltage_lf.npy')\nki0 =stim_weights_thr[:,np.newaxis]\ndelays = dist/conduction_velocity"
      ]
    },
    {
      "cell_type": "markdown",
      "metadata": {},
      "source": [
        "define options for JR model\n\n"
      ]
    },
    {
      "cell_type": "code",
      "execution_count": null,
      "metadata": {
        "collapsed": false
      },
      "outputs": [],
      "source": [
        "eeg_data = evoked.data.copy()\ntime_start = np.where(evoked.times==-0.1)[0][0]\ntime_end = np.where(evoked.times==0.3)[0][0]\neeg_data = eeg_data[:,time_start:time_end]/np.abs(eeg_data).max()*4\nnode_size = sc.shape[0]\noutput_size = eeg_data.shape[0]\nbatch_size = 20\nstep_size = 0.0001\nnum_epochs = 2 # num_epochs = 20\ntr = 0.001\nstate_size = 6\nbase_batch_num = 20\ntime_dim = 400\nstate_size = 6\nbase_batch_num = 20\nhidden_size = int(tr/step_size)"
      ]
    },
    {
      "cell_type": "markdown",
      "metadata": {},
      "source": [
        "prepare data structure of the model\n\n"
      ]
    },
    {
      "cell_type": "code",
      "execution_count": null,
      "metadata": {
        "collapsed": false
      },
      "outputs": [],
      "source": [
        "data_mean = Timeseries(eeg_data, num_epochs, batch_size)"
      ]
    },
    {
      "cell_type": "markdown",
      "metadata": {},
      "source": [
        "get model parameters structure and define the fitted parameters by setting non-zero variance for the model\n\n"
      ]
    },
    {
      "cell_type": "code",
      "execution_count": null,
      "metadata": {
        "collapsed": false
      },
      "outputs": [],
      "source": [
        "lm = np.zeros((output_size,200))\nlm_v = np.zeros((output_size,200))\nparams = JansenRitParams(A = par(3.25), \n                         a= par(100,100, 2, True), \n                         B = par(22), \n                         b = par(50, 50, 1, True),\n                         g=par(500,500,2, True), \n                         g_f=par(10,10,1, True), \n                         g_b=par(10,10,1, True),\n                         c1 = par(135, 135, 1, True), \n                         c2 = par(135*0.8, 135*0.8, 1, True), \n                         c3 = par(135*0.25, 135*0.25, 1, True),\n                         c4 = par(135*0.25, 135*0.25, 1, True), \n                         std_in= par(np.log(10), np.log(10), .1, True, True), \n                         vmax= par(5), \n                         v0=par(6), \n                         r=par(0.56),\n                         y0=par(-2, -2, 1/4, True),\n                         mu = par(np.log(1.5),\n                                  np.log(1.5), .1, True, True, lb=0.1), \n                         k =par(5., 5., 0.2, True, lb=1), \n                         k0=par(0),\n                         cy0 = par(50, 50, 1, True), \n                         ki=par(ki0), \n                         lm=par(lm, lm, 1 * np.ones((output_size, node_size))+lm_v, True)\n                         )"
      ]
    },
    {
      "cell_type": "markdown",
      "metadata": {},
      "source": [
        "call model want to fit\n\n"
      ]
    },
    {
      "cell_type": "code",
      "execution_count": null,
      "metadata": {
        "collapsed": false
      },
      "outputs": [],
      "source": [
        "model = JansenRitModel(params, \n                       node_size=node_size, \n                       TRs_per_window=batch_size, \n                       step_size=step_size, \n                       output_size=output_size, \n                       tr=tr, \n                       sc=sc, \n                       lm=lm, \n                       dist=dist, \n                       use_fit_gains=True, \n                       use_fit_lfm = False)\n\n\n\n# create objective function\nObjFun = CostsJR(model)"
      ]
    },
    {
      "cell_type": "markdown",
      "metadata": {},
      "source": [
        "call model fit\n\n"
      ]
    },
    {
      "cell_type": "code",
      "execution_count": null,
      "metadata": {
        "collapsed": false
      },
      "outputs": [],
      "source": [
        "F = ModelFitting(model, ObjFun)"
      ]
    },
    {
      "cell_type": "markdown",
      "metadata": {},
      "source": [
        "model training\n\n"
      ]
    },
    {
      "cell_type": "code",
      "execution_count": null,
      "metadata": {
        "collapsed": false
      },
      "outputs": [],
      "source": [
        "u = np.zeros((node_size,hidden_size,time_dim))\nu[:,:,80:120]= 1000\nF.train(u=u, empRecs = [data_mean], num_epochs = num_epochs, TPperWindow = batch_size)"
      ]
    },
    {
      "cell_type": "markdown",
      "metadata": {},
      "source": [
        "quick test run with 2 epochs\n\n"
      ]
    },
    {
      "cell_type": "code",
      "execution_count": null,
      "metadata": {
        "collapsed": false
      },
      "outputs": [],
      "source": [
        "F.evaluate(u = u, empRec = data_mean, TPperWindow = batch_size, base_window_num = 20)"
      ]
    },
    {
      "cell_type": "markdown",
      "metadata": {},
      "source": [
        "load in a previously completed model fitting results object\n\n"
      ]
    },
    {
      "cell_type": "code",
      "execution_count": null,
      "metadata": {
        "collapsed": false
      },
      "outputs": [],
      "source": [
        "full_run_fname = os.path.join(data_dir, 'Subject_1_low_voltage_fittingresults_stim_exp.pkl')\nF = pickle.load(open(full_run_fname, 'rb'))\nF.evaluate(u = u, empRec = data_mean, TPperWindow = batch_size, base_window_num = 20)"
      ]
    },
    {
      "cell_type": "markdown",
      "metadata": {},
      "source": [
        "Plot the original and simulated EEG data\n\n"
      ]
    },
    {
      "cell_type": "code",
      "execution_count": null,
      "metadata": {
        "collapsed": false
      },
      "outputs": [],
      "source": [
        "epoched = mne.read_epochs(file_name, verbose=False);\nevoked = epoched.average()\nts_args = dict(xlim=[-0.1,0.3])\nch, peak_locs1 = evoked.get_peak(ch_type='eeg', tmin=-0.05, tmax=0.01)\nch, peak_locs2 = evoked.get_peak(ch_type='eeg', tmin=0.01, tmax=0.02)\nch, peak_locs3 = evoked.get_peak(ch_type='eeg', tmin=0.03, tmax=0.05)\nch, peak_locs4 = evoked.get_peak(ch_type='eeg', tmin=0.07, tmax=0.15)\nch, peak_locs5 = evoked.get_peak(ch_type='eeg', tmin=0.15, tmax=0.20)\ntimes = [peak_locs1, peak_locs2, peak_locs3, peak_locs4, peak_locs5]\nplot = evoked.plot_joint(ts_args=ts_args, times=times);\n\n\nsimulated_EEG_st = evoked.copy()\nsimulated_EEG_st.data[:,time_start:time_end] = F.lastRec['eeg'].npTS()\ntimes = [peak_locs1, peak_locs2, peak_locs3, peak_locs4, peak_locs5]\nsimulated_joint_st = simulated_EEG_st.plot_joint(ts_args=ts_args, times=times)"
      ]
    },
    {
      "cell_type": "markdown",
      "metadata": {},
      "source": [
        "## Results Description\n\n\nThe plot above shows the original EEG data and the simulated EEG data using the fitted Jansen-Rit model.\nThe simulated data closely resembles the original EEG data, indicating that the model fitting was successful.\nPeak locations extracted from different time intervals are marked on the plots, demonstrating the model's ability\nto capture key features of the EEG signal.\n\n"
      ]
    },
    {
      "cell_type": "markdown",
      "metadata": {},
      "source": [
        "## References\n\nMomi, D., Wang, Z., Griffiths, J.D. (2023). \"TMS-evoked responses are driven by recurrent large-scale network dynamics.\" eLife, 10.7554/eLife.83232. https://doi.org/10.7554/eLife.83232\n\n"
      ]
    }
  ],
  "metadata": {
    "kernelspec": {
      "display_name": "Python 3",
      "language": "python",
      "name": "python3"
    },
    "language_info": {
      "codemirror_mode": {
        "name": "ipython",
        "version": 3
      },
      "file_extension": ".py",
      "mimetype": "text/x-python",
      "name": "python",
      "nbconvert_exporter": "python",
      "pygments_lexer": "ipython3",
      "version": "3.9.19"
    }
  },
  "nbformat": 4,
  "nbformat_minor": 0
}